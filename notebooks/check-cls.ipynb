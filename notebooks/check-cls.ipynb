{
 "cells": [
  {
   "cell_type": "code",
   "execution_count": 1,
   "metadata": {},
   "outputs": [],
   "source": [
    "%load_ext autoreload\n",
    "%autoreload 2"
   ]
  },
  {
   "cell_type": "code",
   "execution_count": 2,
   "metadata": {},
   "outputs": [
    {
     "name": "stdout",
     "output_type": "stream",
     "text": [
      "/mnt/NVME1TB/Projects/severstal\n"
     ]
    }
   ],
   "source": [
    "cd ../"
   ]
  },
  {
   "cell_type": "code",
   "execution_count": 3,
   "metadata": {},
   "outputs": [],
   "source": [
    "TRAIN_IMAGES = '/home/denilv/Projects/severstal/data/train_images/'\n",
    "TRAIN_CSV = '/mnt/NVME1TB/Projects/severstal/data/cls_df/train.csv'\n",
    "VALID_CSV = '/mnt/NVME1TB/Projects/severstal/data/cls_df/valid.csv'\n",
    "TEST_IMAGES = '/home/denilv/Projects/severstal/data/test_images/'"
   ]
  },
  {
   "cell_type": "code",
   "execution_count": 4,
   "metadata": {},
   "outputs": [],
   "source": [
    "EPOCHS = 30\n",
    "LR = 1e-3\n",
    "BATCH_SIZE = 32\n",
    "CROP_SIZE = None\n",
    "\n",
    "CUDA_VISIBLE_DEVICES = '0'"
   ]
  },
  {
   "cell_type": "code",
   "execution_count": 16,
   "metadata": {},
   "outputs": [],
   "source": [
    "import os\n",
    "os.environ['CUDA_VISIBLE_DEVICES'] = CUDA_VISIBLE_DEVICES\n",
    "import torch\n",
    "import numpy as np\n",
    "import pandas as pd\n",
    "import segmentation_models_pytorch as smp\n",
    "\n",
    "from albumentations.augmentations.functional import normalize\n",
    "from tqdm.auto import tqdm\n",
    "from modules.comp_tools import ClsDataset, AUGMENTATIONS_TRAIN, get_model, predict_cls, ModelAgg\n",
    "from modules.common import rle_decode\n",
    "from catalyst.dl.runner import SupervisedRunner\n",
    "from catalyst.dl.callbacks import F1ScoreCallback, AccuracyCallback\n",
    "from torch.utils.data import DataLoader as BaseDataLoader\n",
    "from torch.utils.data import Dataset as BaseDataset"
   ]
  },
  {
   "cell_type": "code",
   "execution_count": 6,
   "metadata": {},
   "outputs": [],
   "source": [
    "def to_tensor(x, **kwargs):\n",
    "    return x.transpose(2, 0, 1).astype('float32')"
   ]
  },
  {
   "cell_type": "code",
   "execution_count": 7,
   "metadata": {},
   "outputs": [],
   "source": [
    "MEAN = [0.485, 0.456, 0.406]\n",
    "STD = [0.229, 0.224, 0.225]"
   ]
  },
  {
   "cell_type": "code",
   "execution_count": 8,
   "metadata": {},
   "outputs": [],
   "source": [
    "preprocessing_fn = lambda x: to_tensor(normalize(x, MEAN, STD))"
   ]
  },
  {
   "cell_type": "code",
   "execution_count": 9,
   "metadata": {},
   "outputs": [
    {
     "name": "stdout",
     "output_type": "stream",
     "text": [
      "Loading /mnt/NVME1TB/Projects/severstal/logs/cls_resnet50_new_wave/checkpoints/best.pth\n",
      "<All keys matched successfully>\n"
     ]
    }
   ],
   "source": [
    "ENCODER = 'resnet50'\n",
    "ENCODER_WEIGHTS = 'imagenet'\n",
    "ACTIVATION = 'sigmoid'\n",
    "\n",
    "CONTINUE = '/mnt/NVME1TB/Projects/severstal/logs/cls_resnet50_new_wave/checkpoints/best.pth'\n",
    "\n",
    "model = get_model(ENCODER, 2, ENCODER_WEIGHTS, load_weights=CONTINUE)\n",
    "model = model.cuda()\n",
    "model = model.eval()\n",
    "\n",
    "resnet50 = model"
   ]
  },
  {
   "cell_type": "code",
   "execution_count": 10,
   "metadata": {},
   "outputs": [
    {
     "name": "stdout",
     "output_type": "stream",
     "text": [
      "Loading /mnt/NVME1TB/Projects/severstal/logs/cls_resnet18_new_wave/checkpoints/best.pth\n",
      "<All keys matched successfully>\n"
     ]
    }
   ],
   "source": [
    "ENCODER = 'resnet18'\n",
    "ENCODER_WEIGHTS = 'imagenet'\n",
    "ACTIVATION = 'sigmoid'\n",
    "\n",
    "CONTINUE = '/mnt/NVME1TB/Projects/severstal/logs/cls_resnet18_new_wave/checkpoints/best.pth'\n",
    "\n",
    "model = get_model(ENCODER, 2, ENCODER_WEIGHTS, load_weights=CONTINUE)\n",
    "model = model.cuda()\n",
    "model = model.eval()\n",
    "\n",
    "resnet18 = model"
   ]
  },
  {
   "cell_type": "code",
   "execution_count": 29,
   "metadata": {},
   "outputs": [],
   "source": [
    "train_df = pd.read_csv(TRAIN_CSV).fillna('')\n",
    "valid_df = pd.read_csv(VALID_CSV).fillna('')\n",
    "\n",
    "valid_df.loc[valid_df.has_defect == 0, 'class'] = -1\n",
    "train_df.loc[train_df.has_defect == 0, 'class'] = -1\n",
    "\n",
    "train_dataset = ClsDataset(\n",
    "    train_df,\n",
    "    img_prefix=TRAIN_IMAGES, \n",
    "    augmentations=AUGMENTATIONS_TRAIN, \n",
    "    preprocess_img=preprocessing_fn,\n",
    ")\n",
    "valid_dataset = ClsDataset(\n",
    "    valid_df,\n",
    "    img_prefix=TRAIN_IMAGES, \n",
    "    augmentations=None, #AUGMENTATIONS_TRAIN, \n",
    "    preprocess_img=preprocessing_fn,\n",
    ")\n",
    "train_dl = BaseDataLoader(train_dataset, batch_size=BATCH_SIZE, shuffle=True, num_workers=4)\n",
    "valid_dl = BaseDataLoader(valid_dataset, batch_size=BATCH_SIZE, shuffle=False, num_workers=4)"
   ]
  },
  {
   "cell_type": "code",
   "execution_count": 15,
   "metadata": {},
   "outputs": [],
   "source": [
    "from sklearn.metrics import f1_score as sk_f1_score\n",
    "from sklearn.metrics import accuracy_score as sk_accuracy_score\n",
    "from sklearn.metrics import classification_report\n",
    "\n",
    "from tqdm.auto import tqdm\n",
    "\n",
    "from catalyst.dl.utils.criterion import f1_score, accuracy\n",
    "\n",
    "import ttach as tta"
   ]
  },
  {
   "cell_type": "code",
   "execution_count": 37,
   "metadata": {},
   "outputs": [],
   "source": [
    "def score(model, th=0.5):\n",
    "    pr, tr = predict_cls(model, valid_dl)\n",
    "    pred_probs = pr[:, 1].numpy()\n",
    "    gt = tr[:, 1]\n",
    "    \n",
    "    pred_labels = pred_probs > th\n",
    "    acc = sk_accuracy_score(gt, pred_labels)\n",
    "    fscore = sk_f1_score(gt, pred_labels)\n",
    "    print('Acc', acc)\n",
    "    print('F1', fscore)"
   ]
  },
  {
   "cell_type": "code",
   "execution_count": 32,
   "metadata": {},
   "outputs": [
    {
     "data": {
      "application/vnd.jupyter.widget-view+json": {
       "model_id": "a9ac2fe3d62240079cc197eb653880d4",
       "version_major": 2,
       "version_minor": 0
      },
      "text/plain": [
       "HBox(children=(IntProgress(value=0, max=79), HTML(value='')))"
      ]
     },
     "metadata": {},
     "output_type": "display_data"
    },
    {
     "name": "stdout",
     "output_type": "stream",
     "text": [
      "\n",
      "Acc 0.9613853503184714\n",
      "F1 0.9634926608957471\n"
     ]
    }
   ],
   "source": [
    "score(resnet50)"
   ]
  },
  {
   "cell_type": "code",
   "execution_count": 35,
   "metadata": {},
   "outputs": [],
   "source": [
    "ens_model = ModelAgg([resnet18, resnet50])\n",
    "tta_ens_model = tta.ClassificationTTAWrapper(ens_model, tta.aliases.hflip_transform())\n",
    "tta_resnet50 = tta.ClassificationTTAWrapper(resnet50, tta.aliases.hflip_transform())\n",
    "tta_resnet18 = tta.ClassificationTTAWrapper(resnet18, tta.aliases.hflip_transform())\n",
    "\n",
    "models = [\n",
    "    ('resnet18', resnet18),\n",
    "    ('resnet50', resnet50),\n",
    "    ('ens_model', ens_model),\n",
    "    ('tta_resnet18', tta_resnet18),\n",
    "    ('tta_resnet50', tta_resnet50),\n",
    "    ('tta_ens_model', tta_ens_model),\n",
    "]"
   ]
  },
  {
   "cell_type": "code",
   "execution_count": 38,
   "metadata": {},
   "outputs": [
    {
     "name": "stdout",
     "output_type": "stream",
     "text": [
      "resnet18\n"
     ]
    },
    {
     "data": {
      "application/vnd.jupyter.widget-view+json": {
       "model_id": "febb9f77963143ed84a4c256dab6fff0",
       "version_major": 2,
       "version_minor": 0
      },
      "text/plain": [
       "HBox(children=(IntProgress(value=0, max=79), HTML(value='')))"
      ]
     },
     "metadata": {},
     "output_type": "display_data"
    },
    {
     "name": "stdout",
     "output_type": "stream",
     "text": [
      "\n",
      "Acc 0.9617834394904459\n",
      "F1 0.9634146341463413\n",
      "resnet50\n"
     ]
    },
    {
     "data": {
      "application/vnd.jupyter.widget-view+json": {
       "model_id": "d919895b32dd4710bc587217ccc22f33",
       "version_major": 2,
       "version_minor": 0
      },
      "text/plain": [
       "HBox(children=(IntProgress(value=0, max=79), HTML(value='')))"
      ]
     },
     "metadata": {},
     "output_type": "display_data"
    },
    {
     "name": "stdout",
     "output_type": "stream",
     "text": [
      "\n",
      "Acc 0.9613853503184714\n",
      "F1 0.9634926608957471\n",
      "ens_model\n"
     ]
    },
    {
     "data": {
      "application/vnd.jupyter.widget-view+json": {
       "model_id": "f3a36e3502c048edb71b71f3eb5931bb",
       "version_major": 2,
       "version_minor": 0
      },
      "text/plain": [
       "HBox(children=(IntProgress(value=0, max=79), HTML(value='')))"
      ]
     },
     "metadata": {},
     "output_type": "display_data"
    },
    {
     "name": "stdout",
     "output_type": "stream",
     "text": [
      "\n",
      "Acc 0.9669585987261147\n",
      "F1 0.9687146626460611\n",
      "tta_resnet18\n"
     ]
    },
    {
     "data": {
      "application/vnd.jupyter.widget-view+json": {
       "model_id": "107e31facf2446fba425b225890d3fd2",
       "version_major": 2,
       "version_minor": 0
      },
      "text/plain": [
       "HBox(children=(IntProgress(value=0, max=79), HTML(value='')))"
      ]
     },
     "metadata": {},
     "output_type": "display_data"
    },
    {
     "name": "stdout",
     "output_type": "stream",
     "text": [
      "\n",
      "Acc 0.9605891719745223\n",
      "F1 0.9623430962343095\n",
      "tta_resnet50\n"
     ]
    },
    {
     "data": {
      "application/vnd.jupyter.widget-view+json": {
       "model_id": "0fa3024969384411b547e35c6e8c7a7b",
       "version_major": 2,
       "version_minor": 0
      },
      "text/plain": [
       "HBox(children=(IntProgress(value=0, max=79), HTML(value='')))"
      ]
     },
     "metadata": {},
     "output_type": "display_data"
    },
    {
     "name": "stdout",
     "output_type": "stream",
     "text": [
      "\n",
      "Acc 0.9633757961783439\n",
      "F1 0.9654654654654654\n",
      "tta_ens_model\n"
     ]
    },
    {
     "data": {
      "application/vnd.jupyter.widget-view+json": {
       "model_id": "79a9888c48eb4c5f9f01881137f71d06",
       "version_major": 2,
       "version_minor": 0
      },
      "text/plain": [
       "HBox(children=(IntProgress(value=0, max=79), HTML(value='')))"
      ]
     },
     "metadata": {},
     "output_type": "display_data"
    },
    {
     "name": "stdout",
     "output_type": "stream",
     "text": [
      "\n",
      "Acc 0.9673566878980892\n",
      "F1 0.9690799396681749\n"
     ]
    }
   ],
   "source": [
    "for model_name, model in models:\n",
    "    print(model_name)\n",
    "    score(model)\n",
    "    "
   ]
  },
  {
   "cell_type": "code",
   "execution_count": 33,
   "metadata": {},
   "outputs": [
    {
     "name": "stdout",
     "output_type": "stream",
     "text": [
      "TP: 1292, FP: 54, TN: 1125, FN: 41\n"
     ]
    }
   ],
   "source": [
    "# True Positive (TP): we predict a label of 1 (positive), and the true label is 1.\n",
    "TP = np.sum(np.logical_and(pred_labels == 1, true_labels == 1))\n",
    " \n",
    "# True Negative (TN): we predict a label of 0 (negative), and the true label is 0.\n",
    "TN = np.sum(np.logical_and(pred_labels == 0, true_labels == 0))\n",
    " \n",
    "# False Positive (FP): we predict a label of 1 (positive), but the true label is 0.\n",
    "FP = np.sum(np.logical_and(pred_labels == 1, true_labels == 0))\n",
    " \n",
    "# False Negative (FN): we predict a label of 0 (negative), but the true label is 1.\n",
    "FN = np.sum(np.logical_and(pred_labels == 0, true_labels == 1))\n",
    " \n",
    "print('TP: %i, FP: %i, TN: %i, FN: %i' % (TP,FP,TN,FN))"
   ]
  }
 ],
 "metadata": {
  "kernelspec": {
   "display_name": "Python 3",
   "language": "python",
   "name": "python3"
  },
  "language_info": {
   "codemirror_mode": {
    "name": "ipython",
    "version": 3
   },
   "file_extension": ".py",
   "mimetype": "text/x-python",
   "name": "python",
   "nbconvert_exporter": "python",
   "pygments_lexer": "ipython3",
   "version": "3.7.4"
  }
 },
 "nbformat": 4,
 "nbformat_minor": 2
}
