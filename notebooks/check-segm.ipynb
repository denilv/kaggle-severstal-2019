{
 "cells": [
  {
   "cell_type": "code",
   "execution_count": 1,
   "metadata": {},
   "outputs": [],
   "source": [
    "%load_ext autoreload\n",
    "%autoreload 2"
   ]
  },
  {
   "cell_type": "code",
   "execution_count": 2,
   "metadata": {},
   "outputs": [
    {
     "name": "stdout",
     "output_type": "stream",
     "text": [
      "/mnt/NVME1TB/Projects/kaggle-severstal-2019\n"
     ]
    }
   ],
   "source": [
    "cd ../"
   ]
  },
  {
   "cell_type": "code",
   "execution_count": 3,
   "metadata": {},
   "outputs": [],
   "source": [
    "TRAIN_IMAGES = '/home/denilv/Projects/kaggle-severstal-2019/data/train_images/'\n",
    "TRAIN_CSV = '/mnt/NVME1TB/Projects/kaggle-severstal-2019/data/segm_df/train.csv'\n",
    "VALID_CSV = '/mnt/NVME1TB/Projects/kaggle-severstal-2019/data/segm_df/valid.csv'\n",
    "TEST_IMAGES = '/home/denilv/Projects/kaggle-severstal-2019/data/test_images/'"
   ]
  },
  {
   "cell_type": "code",
   "execution_count": 4,
   "metadata": {},
   "outputs": [],
   "source": [
    "EPOCHS = 30\n",
    "LR = 1e-3\n",
    "BATCH_SIZE = 32\n",
    "CROP_SIZE = None\n",
    "\n",
    "CUDA_VISIBLE_DEVICES = '1'"
   ]
  },
  {
   "cell_type": "code",
   "execution_count": 5,
   "metadata": {},
   "outputs": [
    {
     "name": "stderr",
     "output_type": "stream",
     "text": [
      "pyarrow not available, switching to pickle. To install pyarrow, run `pip install pyarrow`.\n",
      "lz4 not available, disabling compression. To install lz4, run `pip install lz4`.\n",
      "wandb not available, to install wandb, run `pip install wandb`.\n"
     ]
    }
   ],
   "source": [
    "import os\n",
    "os.environ['CUDA_VISIBLE_DEVICES'] = CUDA_VISIBLE_DEVICES\n",
    "import torch\n",
    "import numpy as np\n",
    "import pandas as pd\n",
    "import segmentation_models_pytorch as smp\n",
    "\n",
    "from albumentations.augmentations.functional import normalize\n",
    "from tqdm.auto import tqdm\n",
    "from modules.comp_tools import Dataset, AUGMENTATIONS_TRAIN, get_segm_model, ModelAgg, predict_semg, decode_masks, dice_channel_torch\n",
    "from modules.common import rle_decode\n",
    "from catalyst.dl.runner import SupervisedRunner\n",
    "from catalyst.dl.callbacks import F1ScoreCallback, AccuracyCallback\n",
    "from torch.utils.data import DataLoader as BaseDataLoader\n",
    "from torch.utils.data import Dataset as BaseDataset\n",
    "\n",
    "import ttach as tta"
   ]
  },
  {
   "cell_type": "code",
   "execution_count": 16,
   "metadata": {},
   "outputs": [],
   "source": [
    "def to_tensor(x, **kwargs):\n",
    "    return x.transpose(2, 0, 1).astype('float32')\n",
    "\n",
    "MEAN = [0.485, 0.456, 0.406]\n",
    "STD = [0.229, 0.224, 0.225]\n",
    "\n",
    "preprocessing_fn = lambda x: to_tensor(normalize(x, MEAN, STD, max_pixel_value=1.0))\n",
    "\n",
    "# encoder_preprocessing = smp.encoders.get_preprocessing_fn('se_resnext50_32x4d', 'imagenet')\n",
    "# preprocessing_fn1 = lambda x: to_tensor(encoder_preprocessing(x))"
   ]
  },
  {
   "cell_type": "code",
   "execution_count": 7,
   "metadata": {},
   "outputs": [
    {
     "name": "stdout",
     "output_type": "stream",
     "text": [
      "Loading logs/se_resnext101_32x4d_augm_cos_annealing_bce_jacc/checkpoints/best.pth\n",
      "<All keys matched successfully>\n"
     ]
    }
   ],
   "source": [
    "arch_args = dict(\n",
    "    encoder_name='se_resnext101_32x4d',\n",
    "    encoder_weights='imagenet',\n",
    "    classes=4, \n",
    "    activation='sigmoid',\n",
    ")\n",
    "\n",
    "load_weights = 'logs/se_resnext101_32x4d_augm_cos_annealing_bce_jacc/checkpoints/best.pth'\n",
    "\n",
    "model = get_segm_model('FPN', arch_args, load_weights=load_weights)\n",
    "\n",
    "model = model.cuda()\n",
    "model = model.eval()\n",
    "\n",
    "se_resnext101 = model"
   ]
  },
  {
   "cell_type": "code",
   "execution_count": 8,
   "metadata": {},
   "outputs": [
    {
     "name": "stdout",
     "output_type": "stream",
     "text": [
      "Loading logs/unet_se_resnext50_32x4d/checkpoints/best.pth\n",
      "<All keys matched successfully>\n"
     ]
    }
   ],
   "source": [
    "arch_args = dict(\n",
    "    encoder_name='se_resnext50_32x4d',\n",
    "    encoder_weights='imagenet',\n",
    "    classes=4, \n",
    "    activation='sigmoid',\n",
    ")\n",
    "\n",
    "load_weights = 'logs/unet_se_resnext50_32x4d/checkpoints/best.pth'\n",
    "\n",
    "model = get_segm_model('Unet', arch_args, load_weights=load_weights)\n",
    "\n",
    "model = model.cuda()\n",
    "model = model.eval()\n",
    "\n",
    "se_resnext50 = model"
   ]
  },
  {
   "cell_type": "code",
   "execution_count": 17,
   "metadata": {},
   "outputs": [
    {
     "data": {
      "application/vnd.jupyter.widget-view+json": {
       "model_id": "799d304c4f584b8ebd79630529e037ac",
       "version_major": 2,
       "version_minor": 0
      },
      "text/plain": [
       "HBox(children=(IntProgress(value=0, max=5336), HTML(value='')))"
      ]
     },
     "metadata": {},
     "output_type": "display_data"
    },
    {
     "name": "stdout",
     "output_type": "stream",
     "text": [
      "\n"
     ]
    }
   ],
   "source": [
    "valid_df = pd.read_csv(VALID_CSV).fillna('')\n",
    "valid_df = decode_masks(valid_df)\n",
    "\n",
    "valid_dataset = Dataset(\n",
    "    valid_df[:],\n",
    "    img_prefix=TRAIN_IMAGES, \n",
    "    augmentations=None, \n",
    "    preprocess_img=preprocessing_fn1,\n",
    "    preprocess_mask=to_tensor,\n",
    ")\n",
    "\n",
    "valid_dl = BaseDataLoader(valid_dataset, batch_size=4, shuffle=False, num_workers=4)"
   ]
  },
  {
   "cell_type": "code",
   "execution_count": 11,
   "metadata": {},
   "outputs": [],
   "source": [
    "def calc_dice(model, dl, th=0.5, device='cuda:0'):\n",
    "    dices = []\n",
    "    with torch.no_grad():\n",
    "        for features, gt in tqdm(dl):\n",
    "            features = features.to(device)\n",
    "            logits = model(features).detach().cpu()\n",
    "            batch_dice = dice_channel_torch(logits, gt, th)\n",
    "            dices.append(batch_dice)\n",
    "    return np.mean(dices)"
   ]
  },
  {
   "cell_type": "code",
   "execution_count": 12,
   "metadata": {},
   "outputs": [
    {
     "data": {
      "application/vnd.jupyter.widget-view+json": {
       "model_id": "",
       "version_major": 2,
       "version_minor": 0
      },
      "text/plain": [
       "HBox(children=(IntProgress(value=0, max=334), HTML(value='')))"
      ]
     },
     "metadata": {},
     "output_type": "display_data"
    },
    {
     "name": "stdout",
     "output_type": "stream",
     "text": [
      "\n"
     ]
    },
    {
     "data": {
      "text/plain": [
       "0.873062"
      ]
     },
     "execution_count": 12,
     "metadata": {},
     "output_type": "execute_result"
    }
   ],
   "source": [
    "calc_dice(se_resnext50, valid_dl)"
   ]
  },
  {
   "cell_type": "code",
   "execution_count": 21,
   "metadata": {},
   "outputs": [
    {
     "data": {
      "application/vnd.jupyter.widget-view+json": {
       "model_id": "479de534f40241dbb0f8c17faf03b5ea",
       "version_major": 2,
       "version_minor": 0
      },
      "text/plain": [
       "HBox(children=(IntProgress(value=0, max=334), HTML(value='')))"
      ]
     },
     "metadata": {},
     "output_type": "display_data"
    },
    {
     "name": "stdout",
     "output_type": "stream",
     "text": [
      "\n"
     ]
    },
    {
     "data": {
      "text/plain": [
       "0.8824164"
      ]
     },
     "execution_count": 21,
     "metadata": {},
     "output_type": "execute_result"
    }
   ],
   "source": [
    "tta_se_resnext50 = tta.SegmentationTTAWrapper(se_resnext50, tta.aliases.hflip_transform())\n",
    "calc_dice(tta_se_resnext50, valid_dl)"
   ]
  },
  {
   "cell_type": "code",
   "execution_count": 13,
   "metadata": {},
   "outputs": [
    {
     "data": {
      "application/vnd.jupyter.widget-view+json": {
       "model_id": "",
       "version_major": 2,
       "version_minor": 0
      },
      "text/plain": [
       "HBox(children=(IntProgress(value=0, max=334), HTML(value='')))"
      ]
     },
     "metadata": {},
     "output_type": "display_data"
    },
    {
     "name": "stdout",
     "output_type": "stream",
     "text": [
      "\n"
     ]
    },
    {
     "data": {
      "text/plain": [
       "0.90145725"
      ]
     },
     "execution_count": 13,
     "metadata": {},
     "output_type": "execute_result"
    }
   ],
   "source": [
    "calc_dice(se_resnext101, valid_dl)"
   ]
  },
  {
   "cell_type": "code",
   "execution_count": 24,
   "metadata": {},
   "outputs": [
    {
     "data": {
      "application/vnd.jupyter.widget-view+json": {
       "model_id": "92a96b81039646e7b39542e01a3299e9",
       "version_major": 2,
       "version_minor": 0
      },
      "text/plain": [
       "HBox(children=(IntProgress(value=0, max=334), HTML(value='')))"
      ]
     },
     "metadata": {},
     "output_type": "display_data"
    },
    {
     "name": "stdout",
     "output_type": "stream",
     "text": [
      "\n"
     ]
    },
    {
     "data": {
      "text/plain": [
       "0.9038838"
      ]
     },
     "execution_count": 24,
     "metadata": {},
     "output_type": "execute_result"
    }
   ],
   "source": [
    "tta_se_resnext101 = tta.SegmentationTTAWrapper(se_resnext101, tta.aliases.hflip_transform())\n",
    "calc_dice(tta_se_resnext101, valid_dl)"
   ]
  },
  {
   "cell_type": "code",
   "execution_count": 27,
   "metadata": {},
   "outputs": [
    {
     "data": {
      "application/vnd.jupyter.widget-view+json": {
       "model_id": "831771deefa04c73a8a1aee101b5b0c5",
       "version_major": 2,
       "version_minor": 0
      },
      "text/plain": [
       "HBox(children=(IntProgress(value=0, max=334), HTML(value='')))"
      ]
     },
     "metadata": {},
     "output_type": "display_data"
    },
    {
     "name": "stdout",
     "output_type": "stream",
     "text": [
      "\n"
     ]
    },
    {
     "data": {
      "text/plain": [
       "0.89592856"
      ]
     },
     "execution_count": 27,
     "metadata": {},
     "output_type": "execute_result"
    }
   ],
   "source": [
    "ens_model = ModelAgg([\n",
    "    se_resnext101,\n",
    "    se_resnext50,\n",
    "])\n",
    "calc_dice(ens_model, valid_dl)"
   ]
  },
  {
   "cell_type": "code",
   "execution_count": 28,
   "metadata": {},
   "outputs": [
    {
     "data": {
      "application/vnd.jupyter.widget-view+json": {
       "model_id": "ebd3ec451595429b89e9c32335461e84",
       "version_major": 2,
       "version_minor": 0
      },
      "text/plain": [
       "HBox(children=(IntProgress(value=0, max=334), HTML(value='')))"
      ]
     },
     "metadata": {},
     "output_type": "display_data"
    },
    {
     "name": "stdout",
     "output_type": "stream",
     "text": [
      "\n"
     ]
    },
    {
     "data": {
      "text/plain": [
       "0.8981718"
      ]
     },
     "execution_count": 28,
     "metadata": {},
     "output_type": "execute_result"
    }
   ],
   "source": [
    "tta_ens_model = tta.SegmentationTTAWrapper(ens_model, tta.aliases.hflip_transform())\n",
    "calc_dice(tta_ens_model, valid_dl)"
   ]
  }
 ],
 "metadata": {
  "file_extension": ".py",
  "kernelspec": {
   "display_name": "Python 3",
   "language": "python",
   "name": "python3"
  },
  "language_info": {
   "codemirror_mode": {
    "name": "ipython",
    "version": 3
   },
   "file_extension": ".py",
   "mimetype": "text/x-python",
   "name": "python",
   "nbconvert_exporter": "python",
   "pygments_lexer": "ipython3",
   "version": "3.7.4"
  },
  "mimetype": "text/x-python",
  "name": "python",
  "npconvert_exporter": "python",
  "pygments_lexer": "ipython3",
  "version": 3
 },
 "nbformat": 4,
 "nbformat_minor": 2
}
